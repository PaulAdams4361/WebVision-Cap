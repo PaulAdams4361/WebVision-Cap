{
 "cells": [
  {
   "cell_type": "code",
   "execution_count": 1,
   "metadata": {},
   "outputs": [],
   "source": [
    "import json\n",
    "import pandas as pd\n",
    "from math import floor\n",
    "import tensorflow as tf\n",
    "import tensorflow_hub as hub\n",
    "from tensorflow.keras.models import Model # Keras is the new high level API for TensorFlow"
   ]
  },
  {
   "cell_type": "code",
   "execution_count": 2,
   "metadata": {},
   "outputs": [
    {
     "name": "stdout",
     "output_type": "stream",
     "text": [
      "Tensorflow Version: 2.1.0\n",
      "Tensorflow Hub Version: 0.8.0\n"
     ]
    }
   ],
   "source": [
    "print(\"Tensorflow Version: {}\\nTensorflow Hub Version: {}\".format(tf.__version__, hub.__version__))"
   ]
  },
  {
   "cell_type": "code",
   "execution_count": 3,
   "metadata": {},
   "outputs": [],
   "source": [
    "import os\n",
    "os.chdir('/home/pablo/Desktop/test')"
   ]
  },
  {
   "cell_type": "markdown",
   "metadata": {},
   "source": [
    "# To list all subdirectories in directory 'test':"
   ]
  },
  {
   "cell_type": "code",
   "execution_count": 4,
   "metadata": {},
   "outputs": [
    {
     "name": "stdout",
     "output_type": "stream",
     "text": [
      "['/home/pablo/Desktop/test/n00006484', '/home/pablo/Desktop/test/n00005787']\n"
     ]
    }
   ],
   "source": [
    "x = \"/home/pablo/Desktop/test/\"\n",
    "subdirs = [os.path.join(x, o) for o in os.listdir(x) if os.path.isdir(os.path.join(x,o))]\n",
    "print(subdirs)"
   ]
  },
  {
   "cell_type": "code",
   "execution_count": 5,
   "metadata": {},
   "outputs": [
    {
     "name": "stdout",
     "output_type": "stream",
     "text": [
      "/home/pablo/Desktop/test/n00006484\n",
      "/home/pablo/Desktop/test/n00005787\n"
     ]
    }
   ],
   "source": [
    "for dirs in subdirs:\n",
    "    print(dirs)"
   ]
  },
  {
   "cell_type": "code",
   "execution_count": 6,
   "metadata": {},
   "outputs": [
    {
     "name": "stdout",
     "output_type": "stream",
     "text": [
      "/home/pablo/Desktop/test/n00006484\n",
      "/home/pablo/Desktop/test/n00005787\n"
     ]
    }
   ],
   "source": [
    "import numpy as np\n",
    "\n",
    "for i in np.arange(0, len(subdirs)):\n",
    "    print(subdirs[i])"
   ]
  },
  {
   "cell_type": "code",
   "execution_count": 7,
   "metadata": {},
   "outputs": [
    {
     "name": "stdout",
     "output_type": "stream",
     "text": [
      "/home/pablo/Desktop/test/n00006484\n",
      "/home/pablo/Desktop/test/n00005787\n"
     ]
    }
   ],
   "source": [
    "import numpy as np\n",
    "filenamez=[]\n",
    "\n",
    "for i in np.arange(0, len(subdirs)):\n",
    "    names=os.listdir(subdirs[i])\n",
    "    filenamez.append(names)\n",
    "    print(subdirs[i])"
   ]
  },
  {
   "cell_type": "code",
   "execution_count": 8,
   "metadata": {},
   "outputs": [
    {
     "data": {
      "text/plain": [
       "3171"
      ]
     },
     "execution_count": 8,
     "metadata": {},
     "output_type": "execute_result"
    }
   ],
   "source": [
    "len(names)"
   ]
  },
  {
   "cell_type": "markdown",
   "metadata": {},
   "source": [
    "# Get all the full paths (not relative paths) for each item in the dataset"
   ]
  },
  {
   "cell_type": "code",
   "execution_count": 9,
   "metadata": {},
   "outputs": [],
   "source": [
    "import os\n",
    "new_dirs=[]\n",
    "files = []\n",
    "for dirs in subdirs:\n",
    "    # r=root, d=directories, f = files\n",
    "    for r, d, f in os.walk(dirs):\n",
    "        for file in f:\n",
    "            files.append(os.path.join(r, file))\n",
    "            new_dirs.append(os.path.split(dirs)[1])"
   ]
  },
  {
   "cell_type": "code",
   "execution_count": 10,
   "metadata": {},
   "outputs": [
    {
     "data": {
      "text/plain": [
       "5984"
      ]
     },
     "execution_count": 10,
     "metadata": {},
     "output_type": "execute_result"
    }
   ],
   "source": [
    "len(new_dirs)"
   ]
  },
  {
   "cell_type": "code",
   "execution_count": 11,
   "metadata": {},
   "outputs": [
    {
     "data": {
      "text/plain": [
       "5984"
      ]
     },
     "execution_count": 11,
     "metadata": {},
     "output_type": "execute_result"
    }
   ],
   "source": [
    "len(files)"
   ]
  },
  {
   "cell_type": "markdown",
   "metadata": {},
   "source": [
    "# Concat the lists into a dataframe for processing (next step)"
   ]
  },
  {
   "cell_type": "code",
   "execution_count": 12,
   "metadata": {},
   "outputs": [],
   "source": [
    "df = pd.DataFrame(list(zip(files, new_dirs)), columns=['metadata_file','target'])"
   ]
  },
  {
   "cell_type": "markdown",
   "metadata": {},
   "source": [
    "### Because all files except for the meta files have extensions Python recognizes, I'm dropping all extensions and keeping only unique values because these will be the JSON files (each file with an extension has an associated meta file). I'm doing this in a full dataframe so the class labels retain the same indices as the data:"
   ]
  },
  {
   "cell_type": "code",
   "execution_count": 13,
   "metadata": {},
   "outputs": [
    {
     "data": {
      "text/plain": [
       "'/home/pablo/Desktop/test/n00006484/rp-841i5IwFoxM.jpg'"
      ]
     },
     "execution_count": 13,
     "metadata": {},
     "output_type": "execute_result"
    }
   ],
   "source": [
    "df.metadata_file[1]"
   ]
  },
  {
   "cell_type": "markdown",
   "metadata": {},
   "source": [
    "Take the first index before the split:"
   ]
  },
  {
   "cell_type": "code",
   "execution_count": 14,
   "metadata": {},
   "outputs": [
    {
     "name": "stderr",
     "output_type": "stream",
     "text": [
      "/home/pablo/anaconda3/envs/tf-gpu-21/lib/python3.7/site-packages/ipykernel_launcher.py:3: DeprecationWarning: The default dtype for empty Series will be 'object' instead of 'float64' in a future version. Specify a dtype explicitly to silence this warning.\n",
      "  This is separate from the ipykernel package so we can avoid doing imports until\n"
     ]
    }
   ],
   "source": [
    "# To list all files and their full paths (without extensions):\n",
    "#xyz=[]\n",
    "xyz=pd.Series()\n",
    "\n",
    "for i in np.arange(len(df)):\n",
    "    df['metadata_file'][i] = df['metadata_file'][i].split(\".\")[0]"
   ]
  },
  {
   "cell_type": "code",
   "execution_count": 15,
   "metadata": {},
   "outputs": [
    {
     "data": {
      "text/plain": [
       "'/home/pablo/Desktop/test/n00006484/rp-841i5IwFoxM'"
      ]
     },
     "execution_count": 15,
     "metadata": {},
     "output_type": "execute_result"
    }
   ],
   "source": [
    "df.metadata_file[1]"
   ]
  },
  {
   "cell_type": "code",
   "execution_count": 16,
   "metadata": {},
   "outputs": [
    {
     "data": {
      "text/plain": [
       "5984"
      ]
     },
     "execution_count": 16,
     "metadata": {},
     "output_type": "execute_result"
    }
   ],
   "source": [
    "len(df)"
   ]
  },
  {
   "cell_type": "code",
   "execution_count": 18,
   "metadata": {},
   "outputs": [
    {
     "data": {
      "text/plain": [
       "3003"
      ]
     },
     "execution_count": 18,
     "metadata": {},
     "output_type": "execute_result"
    }
   ],
   "source": [
    "len(df.drop_duplicates())"
   ]
  },
  {
   "cell_type": "markdown",
   "metadata": {},
   "source": [
    "### Drop duplicates like mentioned above:"
   ]
  },
  {
   "cell_type": "code",
   "execution_count": 19,
   "metadata": {},
   "outputs": [],
   "source": [
    "df = df.drop_duplicates().copy()"
   ]
  },
  {
   "cell_type": "code",
   "execution_count": 20,
   "metadata": {},
   "outputs": [
    {
     "data": {
      "text/plain": [
       "3003"
      ]
     },
     "execution_count": 20,
     "metadata": {},
     "output_type": "execute_result"
    }
   ],
   "source": [
    "len(df)"
   ]
  },
  {
   "cell_type": "code",
   "execution_count": 21,
   "metadata": {},
   "outputs": [
    {
     "data": {
      "text/html": [
       "<div>\n",
       "<style scoped>\n",
       "    .dataframe tbody tr th:only-of-type {\n",
       "        vertical-align: middle;\n",
       "    }\n",
       "\n",
       "    .dataframe tbody tr th {\n",
       "        vertical-align: top;\n",
       "    }\n",
       "\n",
       "    .dataframe thead th {\n",
       "        text-align: right;\n",
       "    }\n",
       "</style>\n",
       "<table border=\"1\" class=\"dataframe\">\n",
       "  <thead>\n",
       "    <tr style=\"text-align: right;\">\n",
       "      <th></th>\n",
       "      <th>metadata_file</th>\n",
       "      <th>target</th>\n",
       "    </tr>\n",
       "  </thead>\n",
       "  <tbody>\n",
       "    <tr>\n",
       "      <th>0</th>\n",
       "      <td>/home/pablo/Desktop/test/n00006484/aPkDH6Plnh1XHM</td>\n",
       "      <td>n00006484</td>\n",
       "    </tr>\n",
       "    <tr>\n",
       "      <th>1</th>\n",
       "      <td>/home/pablo/Desktop/test/n00006484/rp-841i5IwFoxM</td>\n",
       "      <td>n00006484</td>\n",
       "    </tr>\n",
       "    <tr>\n",
       "      <th>2</th>\n",
       "      <td>/home/pablo/Desktop/test/n00006484/Eud7D3RdzbTRAM</td>\n",
       "      <td>n00006484</td>\n",
       "    </tr>\n",
       "    <tr>\n",
       "      <th>3</th>\n",
       "      <td>/home/pablo/Desktop/test/n00006484/zi6RzWIEvqGCRM</td>\n",
       "      <td>n00006484</td>\n",
       "    </tr>\n",
       "    <tr>\n",
       "      <th>4</th>\n",
       "      <td>/home/pablo/Desktop/test/n00006484/j705FxfCA2CjCM</td>\n",
       "      <td>n00006484</td>\n",
       "    </tr>\n",
       "  </tbody>\n",
       "</table>\n",
       "</div>"
      ],
      "text/plain": [
       "                                       metadata_file     target\n",
       "0  /home/pablo/Desktop/test/n00006484/aPkDH6Plnh1XHM  n00006484\n",
       "1  /home/pablo/Desktop/test/n00006484/rp-841i5IwFoxM  n00006484\n",
       "2  /home/pablo/Desktop/test/n00006484/Eud7D3RdzbTRAM  n00006484\n",
       "3  /home/pablo/Desktop/test/n00006484/zi6RzWIEvqGCRM  n00006484\n",
       "4  /home/pablo/Desktop/test/n00006484/j705FxfCA2CjCM  n00006484"
      ]
     },
     "execution_count": 21,
     "metadata": {},
     "output_type": "execute_result"
    }
   ],
   "source": [
    "df.head()"
   ]
  },
  {
   "cell_type": "markdown",
   "metadata": {},
   "source": [
    "### Converting Pandas back to lists for faster processing with JSON reading:"
   ]
  },
  {
   "cell_type": "code",
   "execution_count": 22,
   "metadata": {},
   "outputs": [],
   "source": [
    "filelist = list(df.metadata_file)\n",
    "classlist = list(df.target)"
   ]
  },
  {
   "cell_type": "code",
   "execution_count": 23,
   "metadata": {},
   "outputs": [
    {
     "name": "stdout",
     "output_type": "stream",
     "text": [
      "Shape of the metadata filename list: (3003,)\n",
      "Shape of metadata target list: (3003,)\n"
     ]
    }
   ],
   "source": [
    "print(\"Shape of the metadata filename list: {}\\nShape of metadata target list: {}\".format(np.array(filelist).shape, np.array(classlist).shape))"
   ]
  },
  {
   "cell_type": "code",
   "execution_count": 93,
   "metadata": {},
   "outputs": [],
   "source": [
    "descriptions=[]\n",
    "ids=[]\n",
    "targets=[]\n",
    "pathz=[]\n",
    "new_dirs=[]\n",
    "titles=[]\n",
    "\n",
    "for file in filelist:\n",
    "    with open(file) as f:\n",
    "        json_data = json.load(f)\n",
    "        descriptions.append(json_data['description'])\n",
    "        ids.append(json_data['id'])\n",
    "        titles.append(json_data['title'])"
   ]
  },
  {
   "cell_type": "markdown",
   "metadata": {},
   "source": [
    "# Remove all non-ascii characters (including foreign languages (there was a lot of japanese)):"
   ]
  },
  {
   "cell_type": "code",
   "execution_count": 27,
   "metadata": {},
   "outputs": [],
   "source": [
    "import regex as re\n",
    "new_titles = []\n",
    "new_descriptions = []\n",
    "\n",
    "# encode as ascii, decode to convert back to characters from bytes. Also, do regex cleanup on special characters not indicative of meaning\n",
    "for title in titles:\n",
    "    new_titles.append(re.sub(r\"[^a-zA-Z?.!,¿#@]+\", \" \",title.encode('ascii',errors='ignore').decode('UTF-8')))\n",
    "    \n",
    "for description in descriptions:\n",
    "    new_descriptions.append(re.sub(r\"[^a-zA-Z?.!,¿#@]+\", \" \",description.encode('ascii',errors='ignore').decode('UTF-8')))"
   ]
  },
  {
   "cell_type": "code",
   "execution_count": 95,
   "metadata": {},
   "outputs": [
    {
     "data": {
      "text/plain": [
       "3003"
      ]
     },
     "execution_count": 95,
     "metadata": {},
     "output_type": "execute_result"
    }
   ],
   "source": [
    "len(ids)"
   ]
  },
  {
   "cell_type": "code",
   "execution_count": 28,
   "metadata": {},
   "outputs": [],
   "source": [
    "for i in range(len(new_titles)):\n",
    "    new_titles[i] = new_titles[i].lower()\n",
    "\n",
    "for i in range(len(new_descriptions)):\n",
    "    new_descriptions[i] = new_descriptions[i].lower()"
   ]
  },
  {
   "cell_type": "code",
   "execution_count": 29,
   "metadata": {},
   "outputs": [],
   "source": [
    "targets = pd.Series(df['target']).reset_index(drop=True)"
   ]
  },
  {
   "cell_type": "code",
   "execution_count": 30,
   "metadata": {},
   "outputs": [
    {
     "data": {
      "text/plain": [
       "2998    n00005787\n",
       "2999    n00005787\n",
       "3000    n00005787\n",
       "3001    n00005787\n",
       "3002    n00005787\n",
       "Name: target, dtype: object"
      ]
     },
     "execution_count": 30,
     "metadata": {},
     "output_type": "execute_result"
    }
   ],
   "source": [
    "targets.tail()"
   ]
  },
  {
   "cell_type": "code",
   "execution_count": 31,
   "metadata": {},
   "outputs": [
    {
     "data": {
      "text/plain": [
       "2998    n00005787\n",
       "2999    n00005787\n",
       "3000    n00005787\n",
       "3001    n00005787\n",
       "3002    n00005787\n",
       "Name: target, dtype: object"
      ]
     },
     "execution_count": 31,
     "metadata": {},
     "output_type": "execute_result"
    }
   ],
   "source": [
    "targets.tail()"
   ]
  },
  {
   "cell_type": "code",
   "execution_count": 32,
   "metadata": {},
   "outputs": [],
   "source": [
    "# put words into a dictionary for downstream use\n",
    "import collections\n",
    "def build_dataset(words):\n",
    "    count = collections.Counter(words).most_common() #.most_common(100) to use the 100 most common words; .most_common() means zero is the most common\n",
    "    dictionary = dict()\n",
    "    for word, _ in count:\n",
    "        dictionary[word] = len(dictionary)\n",
    "    reverse_dictionary = dict(zip(dictionary.values(), dictionary.keys()))\n",
    "    return dictionary, reverse_dictionary"
   ]
  },
  {
   "cell_type": "code",
   "execution_count": 97,
   "metadata": {},
   "outputs": [],
   "source": [
    "titles_train = new_titles[:floor(len(new_titles)*.75)]\n",
    "titles_test = new_titles[floor(len(new_titles)*.75):]\n",
    "\n",
    "descriptions_train = new_descriptions[:floor(len(new_descriptions)*.75)]\n",
    "descriptions_test = new_descriptions[floor(len(new_descriptions)*.75):]\n",
    "\n",
    "targets_train = targets[:floor(len(targets)*.75)]\n",
    "targets_test = targets[floor(len(targets)*.75):]\n",
    "\n",
    "ids_train = ids[:floor(len(ids)*.75)]\n",
    "ids_test = ids[floor(len(ids)*.75):]"
   ]
  },
  {
   "cell_type": "code",
   "execution_count": 98,
   "metadata": {},
   "outputs": [
    {
     "name": "stdout",
     "output_type": "stream",
     "text": [
      "Title train length: 2252\n",
      "Description train length: 2252\n",
      "Target train length: 0\n",
      "\n",
      "Title test length: 751\n",
      "Description test length: 751\n",
      "Target test length: 0\n"
     ]
    }
   ],
   "source": [
    "print(\"Title train length: {}\\nDescription train length: {}\\nTarget train length: {}\\n\\nTitle test length: {}\\nDescription test length: {}\\nTarget test length: {}\".format(len(titles_train), len(descriptions_train), len(targets_train), len(titles_test), len(descriptions_test), len(targets_test)))"
   ]
  },
  {
   "cell_type": "markdown",
   "metadata": {},
   "source": [
    "# Setting up Title Encoding (dictionarize for ALL titles (not just train or test))"
   ]
  },
  {
   "cell_type": "code",
   "execution_count": 99,
   "metadata": {},
   "outputs": [],
   "source": [
    "title_word_list=[]\n",
    "\n",
    "for i in np.arange(len(new_titles)):\n",
    "    title_word_list.append(new_titles[i].split())"
   ]
  },
  {
   "cell_type": "code",
   "execution_count": 100,
   "metadata": {},
   "outputs": [],
   "source": [
    "title_flat_list = []\n",
    "\n",
    "for sublist in title_word_list:\n",
    "    for item in sublist:\n",
    "        title_flat_list.append(item)"
   ]
  },
  {
   "cell_type": "code",
   "execution_count": 101,
   "metadata": {},
   "outputs": [],
   "source": [
    "title_word_list = title_flat_list.copy()"
   ]
  },
  {
   "cell_type": "code",
   "execution_count": 102,
   "metadata": {},
   "outputs": [],
   "source": [
    "title_words_unique = list(set(title_word_list))"
   ]
  },
  {
   "cell_type": "code",
   "execution_count": 103,
   "metadata": {},
   "outputs": [
    {
     "name": "stdout",
     "output_type": "stream",
     "text": [
      "Unique train titles word count: 4604\n",
      "Unique validation titles word count: 4604\n"
     ]
    }
   ],
   "source": [
    "print(\"Unique train titles word count: {}\\nUnique validation titles word count: {}\".format(len(title_words_unique), len(title_words_unique)))"
   ]
  },
  {
   "cell_type": "code",
   "execution_count": 40,
   "metadata": {},
   "outputs": [],
   "source": [
    "from collections import Counter\n",
    "\n",
    "title_word_to_id = Counter()\n",
    "\n",
    "for word in title_word_list:\n",
    "    title_word_to_id[word] += 1"
   ]
  },
  {
   "cell_type": "code",
   "execution_count": 41,
   "metadata": {},
   "outputs": [],
   "source": [
    "# For unique dictionary values of key words\n",
    "title_word_to_id = {k:(i + 3) for i,(k,v) in enumerate(title_word_to_id.items())}"
   ]
  },
  {
   "cell_type": "markdown",
   "metadata": {},
   "source": [
    "### Checking to make sure the 10 most common words only appear once:"
   ]
  },
  {
   "cell_type": "code",
   "execution_count": 42,
   "metadata": {},
   "outputs": [
    {
     "data": {
      "text/plain": [
       "[(3, 1),\n",
       " (4, 1),\n",
       " (5, 1),\n",
       " (6, 1),\n",
       " (7, 1),\n",
       " (8, 1),\n",
       " (9, 1),\n",
       " (10, 1),\n",
       " (11, 1),\n",
       " (12, 1)]"
      ]
     },
     "execution_count": 42,
     "metadata": {},
     "output_type": "execute_result"
    }
   ],
   "source": [
    "Counter(title_word_to_id.values()).most_common(10)"
   ]
  },
  {
   "cell_type": "code",
   "execution_count": 43,
   "metadata": {},
   "outputs": [
    {
     "data": {
      "text/plain": [
       "[('the', 3),\n",
       " ('cell', 4),\n",
       " ('cycle.', 5),\n",
       " ('life', 6),\n",
       " ('of', 7),\n",
       " ('just', 8),\n",
       " ('like', 9),\n",
       " ('an', 10),\n",
       " ('organism', 11),\n",
       " ('...', 12)]"
      ]
     },
     "execution_count": 43,
     "metadata": {},
     "output_type": "execute_result"
    }
   ],
   "source": [
    "from itertools import islice\n",
    "\n",
    "def take(n, iterable):\n",
    "    \"Return first n items of the iterable as a list\"\n",
    "    return list(islice(iterable, n))\n",
    "\n",
    "take(10, title_word_to_id.items())"
   ]
  },
  {
   "cell_type": "code",
   "execution_count": 44,
   "metadata": {},
   "outputs": [],
   "source": [
    "title_word_to_id[\"<PAD>\"] = 0 # there is no value this replaces; it just adds a pad\n",
    "title_word_to_id[\"<START>\"] = 1 # BERT doesn't use START tokens so using spaces instead; spaces will be trimmed out\n",
    "title_word_to_id[\"<UNK>\"] = 2 # UNK tokens are good. BERT converts them to ## so it knows it's unknown\n",
    "title_word_to_id[\"<UNUSED>\"] = 3"
   ]
  },
  {
   "cell_type": "code",
   "execution_count": 45,
   "metadata": {},
   "outputs": [],
   "source": [
    "title_id_to_word = {value:key for key, value in title_word_to_id.items()}"
   ]
  },
  {
   "cell_type": "markdown",
   "metadata": {},
   "source": [
    "### End of title encoding dictionary"
   ]
  },
  {
   "cell_type": "markdown",
   "metadata": {},
   "source": [
    "# Setting up Descriptions Encoding (dictionarize for ALL descriptions (not just train or test))"
   ]
  },
  {
   "cell_type": "code",
   "execution_count": 46,
   "metadata": {},
   "outputs": [],
   "source": [
    "description_word_list=[]\n",
    "\n",
    "for i in np.arange(len(new_descriptions)):\n",
    "    description_word_list.append(new_descriptions[i].split())"
   ]
  },
  {
   "cell_type": "code",
   "execution_count": 47,
   "metadata": {},
   "outputs": [],
   "source": [
    "description_flat_list = []\n",
    "\n",
    "for sublist in description_word_list:\n",
    "    for item in sublist:\n",
    "        description_flat_list.append(item)"
   ]
  },
  {
   "cell_type": "code",
   "execution_count": 48,
   "metadata": {},
   "outputs": [],
   "source": [
    "description_word_list = description_flat_list.copy()"
   ]
  },
  {
   "cell_type": "code",
   "execution_count": 49,
   "metadata": {},
   "outputs": [],
   "source": [
    "description_words_unique = list(set(description_word_list))"
   ]
  },
  {
   "cell_type": "code",
   "execution_count": 50,
   "metadata": {},
   "outputs": [
    {
     "name": "stdout",
     "output_type": "stream",
     "text": [
      "Unique train titles word count: 8356\n",
      "Unique validation titles word count: 8356\n"
     ]
    }
   ],
   "source": [
    "print(\"Unique train titles word count: {}\\nUnique validation titles word count: {}\".format(len(description_words_unique), len(description_words_unique)))"
   ]
  },
  {
   "cell_type": "code",
   "execution_count": 51,
   "metadata": {},
   "outputs": [],
   "source": [
    "from collections import Counter\n",
    "\n",
    "description_word_to_id = Counter()\n",
    "\n",
    "for word in description_word_list:\n",
    "    description_word_to_id[word] += 1"
   ]
  },
  {
   "cell_type": "code",
   "execution_count": 52,
   "metadata": {},
   "outputs": [],
   "source": [
    "# For unique dictionary values of key words\n",
    "description_word_to_id = {k:(i + 3) for i,(k,v) in enumerate(description_word_to_id.items())}"
   ]
  },
  {
   "cell_type": "markdown",
   "metadata": {},
   "source": [
    "### Checking to make sure the 10 most common words only appear once:"
   ]
  },
  {
   "cell_type": "code",
   "execution_count": 53,
   "metadata": {},
   "outputs": [
    {
     "data": {
      "text/plain": [
       "[(3, 1),\n",
       " (4, 1),\n",
       " (5, 1),\n",
       " (6, 1),\n",
       " (7, 1),\n",
       " (8, 1),\n",
       " (9, 1),\n",
       " (10, 1),\n",
       " (11, 1),\n",
       " (12, 1)]"
      ]
     },
     "execution_count": 53,
     "metadata": {},
     "output_type": "execute_result"
    }
   ],
   "source": [
    "Counter(description_word_to_id.values()).most_common(10)"
   ]
  },
  {
   "cell_type": "code",
   "execution_count": 54,
   "metadata": {},
   "outputs": [
    {
     "data": {
      "text/plain": [
       "[('life', 3),\n",
       " ('science', 4),\n",
       " ('chapter', 5),\n",
       " ('the', 6),\n",
       " ('cell', 7),\n",
       " ('in', 8),\n",
       " ('action.', 9),\n",
       " ('diffusion', 10),\n",
       " ('movement', 11),\n",
       " ('from', 12)]"
      ]
     },
     "execution_count": 54,
     "metadata": {},
     "output_type": "execute_result"
    }
   ],
   "source": [
    "from itertools import islice\n",
    "\n",
    "def take(n, iterable):\n",
    "    \"Return first n items of the iterable as a list\"\n",
    "    return list(islice(iterable, n))\n",
    "\n",
    "take(10, description_word_to_id.items())"
   ]
  },
  {
   "cell_type": "code",
   "execution_count": 55,
   "metadata": {},
   "outputs": [],
   "source": [
    "description_word_to_id[\"<PAD>\"] = 0 # there is no value this replaces; it just adds a pad\n",
    "description_word_to_id[\"<START>\"] = 1 # BERT doesn't use START tokens so using spaces instead; spaces will be trimmed out\n",
    "description_word_to_id[\"<UNK>\"] = 2 # UNK tokens are good. BERT converts them to ## so it knows it's unknown\n",
    "description_word_to_id[\"<UNUSED>\"] = 3"
   ]
  },
  {
   "cell_type": "code",
   "execution_count": 56,
   "metadata": {},
   "outputs": [],
   "source": [
    "description_id_to_word = {value:key for key, value in description_word_to_id.items()}"
   ]
  },
  {
   "cell_type": "code",
   "execution_count": 57,
   "metadata": {},
   "outputs": [],
   "source": [
    "# print(' '.join(description_id_to_word[id] for id in descriptions_test[0])) # This fails because I have words, but this is designed for encoded integer values"
   ]
  },
  {
   "cell_type": "markdown",
   "metadata": {},
   "source": [
    "### End of descriptions encoding dictionary"
   ]
  },
  {
   "cell_type": "markdown",
   "metadata": {},
   "source": [
    "# BERT Model setup:"
   ]
  },
  {
   "cell_type": "code",
   "execution_count": 60,
   "metadata": {},
   "outputs": [],
   "source": [
    "from tensorflow.keras.models import Model # Keras is the new high level API for TensorFlow\n",
    "\n",
    "#max_seq_length = 128  # Your choice here.\n",
    "max_seq_length = 512  # Your choice here.\n",
    "input_word_ids = tf.keras.layers.Input(shape=(max_seq_length), dtype=tf.int32,\n",
    "                                       name=\"input_word_ids\")\n",
    "input_mask = tf.keras.layers.Input(shape=(max_seq_length), dtype=tf.int32,\n",
    "                                   name=\"input_mask\")\n",
    "segment_ids = tf.keras.layers.Input(shape=(max_seq_length), dtype=tf.int32,\n",
    "                                    name=\"segment_ids\")\n",
    "bert_layer = hub.KerasLayer(\"https://tfhub.dev/tensorflow/bert_en_uncased_L-12_H-768_A-12/2\",\n",
    "                            trainable=True)\n",
    "pooled_output, sequence_output = bert_layer([input_word_ids, input_mask, segment_ids])"
   ]
  },
  {
   "cell_type": "code",
   "execution_count": 61,
   "metadata": {},
   "outputs": [
    {
     "name": "stdout",
     "output_type": "stream",
     "text": [
      "Vocab size: 30522\n"
     ]
    }
   ],
   "source": [
    "import bert\n",
    "import math\n",
    "\n",
    "# Set up tokenizer to generate Tensorflow dataset\n",
    "FullTokenizer = bert.bert_tokenization.FullTokenizer\n",
    "vocab_file = bert_layer.resolved_object.vocab_file.asset_path.numpy()\n",
    "do_lower_case = bert_layer.resolved_object.do_lower_case.numpy()\n",
    "tokenizer = FullTokenizer(vocab_file, do_lower_case)\n",
    "print(\"Vocab size:\", len(tokenizer.vocab))"
   ]
  },
  {
   "cell_type": "markdown",
   "metadata": {},
   "source": [
    "# BERT Tokenizer setup for the dataset:"
   ]
  },
  {
   "cell_type": "markdown",
   "metadata": {},
   "source": [
    "### Example with BERT tokenizer:"
   ]
  },
  {
   "cell_type": "code",
   "execution_count": 62,
   "metadata": {},
   "outputs": [
    {
     "name": "stdout",
     "output_type": "stream",
     "text": [
      "['nickelodeon', 'ce', '##l', ':', 'production', 'art', '|', 'e', '##bay']\n",
      "[20814, 8292, 2140, 1024, 2537, 2396, 1064, 1041, 15907]\n"
     ]
    }
   ],
   "source": [
    "tokens = tokenizer.tokenize(\"Nickelodeon Cel: Production Art | eBay\")\n",
    "print(tokens)\n",
    "ids = tokenizer.convert_tokens_to_ids(tokens)\n",
    "print(ids)"
   ]
  },
  {
   "cell_type": "markdown",
   "metadata": {},
   "source": [
    "### Add the CLS (classification start) and SEP  (separate sentences) tokens required for BERT per the BERT paper:"
   ]
  },
  {
   "cell_type": "code",
   "execution_count": 63,
   "metadata": {},
   "outputs": [],
   "source": [
    "train_titles_tokens = list(map(lambda titles_train: ['[CLS]'] + tokenizer.tokenize(titles_train)[:510] + ['[SEP]'], titles_train))\n",
    "test_titles_tokens = list(map(lambda titles_test: ['[CLS]'] + tokenizer.tokenize(titles_test)[:510] + ['[SEP]'], titles_test))"
   ]
  },
  {
   "cell_type": "markdown",
   "metadata": {},
   "source": [
    "### The first method below (lambda) isn't working for the descriptions so need to run the latter functions in stead."
   ]
  },
  {
   "cell_type": "code",
   "execution_count": 64,
   "metadata": {},
   "outputs": [],
   "source": [
    "# train_descriptions_tokens = list(map(lambda descriptions_train: ['[CLS]'] + tokenizer.tokenize(descriptions_train)[:510] + ['[SEP]'], descriptions_train))\n",
    "# test_descriptions_tokens = list(map(lambda descriptions_test: ['[CLS]'] + tokenizer.tokenize(descriptions_test)[:510] + ['[SEP]'], descriptions_test))"
   ]
  },
  {
   "cell_type": "code",
   "execution_count": 65,
   "metadata": {},
   "outputs": [],
   "source": [
    "description_train_tokens = []\n",
    "for desc_train in descriptions_train:\n",
    "    desc_train = ['[CLS]'] + tokenizer.tokenize(desc_train)[:510] + ['[SEP]']\n",
    "    description_train_tokens.append(desc_train)"
   ]
  },
  {
   "cell_type": "code",
   "execution_count": 66,
   "metadata": {},
   "outputs": [],
   "source": [
    "description_test_tokens = []\n",
    "for desc_test in descriptions_test:\n",
    "    desc_test = ['[CLS]'] + tokenizer.tokenize(desc_test)[:510] + ['[SEP]']\n",
    "    description_test_tokens.append(desc_test)"
   ]
  },
  {
   "cell_type": "markdown",
   "metadata": {},
   "source": [
    "# Generate the masks, segment IDs, and tokens for the BERT machine:"
   ]
  },
  {
   "cell_type": "code",
   "execution_count": 67,
   "metadata": {},
   "outputs": [],
   "source": [
    "# See BERT paper: https://arxiv.org/pdf/1810.04805.pdf\n",
    "# And BERT implementation convert_single_example() at https://github.com/google-research/bert/blob/master/run_classifier.py\n",
    "\n",
    "###############################\n",
    "# RDS  modifications to these #\n",
    "# functions to simply return  #\n",
    "# numpy arrays                #\n",
    "###############################\n",
    "\n",
    "def get_ids(tokens, tokenizer, max_seq_length):\n",
    "    \"\"\"Token ids from Tokenizer vocab\"\"\"\n",
    "    token_ids = tokenizer.convert_tokens_to_ids(tokens)\n",
    "    input_ids = token_ids + [0] * (max_seq_length-len(token_ids))\n",
    "    return np.array(input_ids)\n",
    "\n",
    "def get_masks(tokens, max_seq_length):\n",
    "    \"\"\"Mask for padding\"\"\"\n",
    "    if len(tokens)>max_seq_length:\n",
    "        raise IndexError(\"Token length more than max seq length!\")\n",
    "    return np.array([1]*len(tokens) + [0] * (max_seq_length - len(tokens)))\n",
    "\n",
    "\n",
    "def get_segments(tokens, max_seq_length):\n",
    "    \"\"\"Segments: 0 for the first sequence, 1 for the second\"\"\"\n",
    "    if len(tokens)>max_seq_length:\n",
    "        raise IndexError(\"Token length more than max seq length!\")\n",
    "    segments = []\n",
    "    current_segment_id = 0\n",
    "    for token in tokens:\n",
    "        segments.append(current_segment_id)\n",
    "        if token == \"[SEP]\":\n",
    "            current_segment_id = 1\n",
    "    return np.array(segments + [0] * (max_seq_length - len(tokens)))"
   ]
  },
  {
   "cell_type": "code",
   "execution_count": 68,
   "metadata": {},
   "outputs": [],
   "source": [
    "max_seq_length = 512\n",
    "\n",
    "train_title_tokens_ids = []\n",
    "test_title_tokens_ids = []\n",
    "\n",
    "train_description_tokens_ids = []\n",
    "test_description_tokens_ids = []\n",
    "\n",
    "for i in np.arange(0, len(train_titles_tokens)):\n",
    "    this_train_title_token_id = get_ids(train_titles_tokens[i], tokenizer, max_seq_length=max_seq_length)\n",
    "    train_title_tokens_ids.append(this_train_title_token_id)\n",
    "\n",
    "for i in np.arange(0, len(test_titles_tokens)):\n",
    "    this_test_title_token_id = get_ids(test_titles_tokens[i], tokenizer, max_seq_length=max_seq_length)\n",
    "    test_title_tokens_ids.append(this_test_title_token_id)\n",
    "\n",
    "for i in np.arange(0, len(description_train_tokens)):\n",
    "    this_train_description_token_id = get_ids(description_train_tokens[i], tokenizer, max_seq_length=max_seq_length)\n",
    "    train_description_tokens_ids.append(this_train_description_token_id)\n",
    "\n",
    "for i in np.arange(0, len(description_test_tokens)):\n",
    "    this_test_description_token_id = get_ids(description_test_tokens[i], tokenizer, max_seq_length=max_seq_length)\n",
    "    test_description_tokens_ids.append(this_test_description_token_id)"
   ]
  },
  {
   "cell_type": "code",
   "execution_count": 72,
   "metadata": {},
   "outputs": [
    {
     "data": {
      "text/plain": [
       "(2252, 512)"
      ]
     },
     "execution_count": 72,
     "metadata": {},
     "output_type": "execute_result"
    }
   ],
   "source": [
    "pd.DataFrame(train_title_tokens_ids).shape"
   ]
  },
  {
   "cell_type": "code",
   "execution_count": 73,
   "metadata": {},
   "outputs": [
    {
     "name": "stdout",
     "output_type": "stream",
     "text": [
      "Input token IDs dimensions: (2252, 512)\n",
      "\n"
     ]
    }
   ],
   "source": [
    "print('Input token IDs dimensions: {}\\n'.format(pd.DataFrame(train_title_tokens_ids).shape))"
   ]
  },
  {
   "cell_type": "code",
   "execution_count": 74,
   "metadata": {},
   "outputs": [
    {
     "name": "stdout",
     "output_type": "stream",
     "text": [
      "Input token IDs (NOT truncated):\n",
      "\n",
      " [  101  4658  6579  2813 23298  2005  4684 21025  2546  4871  3048  1040\n",
      "   102     0     0     0     0     0     0     0     0     0     0     0\n",
      "     0     0     0     0     0     0     0     0     0     0     0     0\n",
      "     0     0     0     0     0     0     0     0     0     0     0     0\n",
      "     0     0     0     0     0     0     0     0     0     0     0     0\n",
      "     0     0     0     0     0     0     0     0     0     0     0     0\n",
      "     0     0     0     0     0     0     0     0     0     0     0     0\n",
      "     0     0     0     0     0     0     0     0     0     0     0     0\n",
      "     0     0     0     0     0     0     0     0     0     0     0     0\n",
      "     0     0     0     0     0     0     0     0     0     0     0     0\n",
      "     0     0     0     0     0     0     0     0     0     0     0     0\n",
      "     0     0     0     0     0     0     0     0     0     0     0     0\n",
      "     0     0     0     0     0     0     0     0     0     0     0     0\n",
      "     0     0     0     0     0     0     0     0     0     0     0     0\n",
      "     0     0     0     0     0     0     0     0     0     0     0     0\n",
      "     0     0     0     0     0     0     0     0     0     0     0     0\n",
      "     0     0     0     0     0     0     0     0     0     0     0     0\n",
      "     0     0     0     0     0     0     0     0     0     0     0     0\n",
      "     0     0     0     0     0     0     0     0     0     0     0     0\n",
      "     0     0     0     0     0     0     0     0     0     0     0     0\n",
      "     0     0     0     0     0     0     0     0     0     0]\n"
     ]
    }
   ],
   "source": [
    "print(\"Input token IDs (NOT truncated):\\n\\n\", train_title_tokens_ids[3][0:250])"
   ]
  },
  {
   "cell_type": "markdown",
   "metadata": {},
   "source": [
    "# 4) Create text masks for BERT"
   ]
  },
  {
   "cell_type": "code",
   "execution_count": 75,
   "metadata": {},
   "outputs": [],
   "source": [
    "max_seq_length = 512\n",
    "    \n",
    "train_title_tokens_masks = []\n",
    "test_title_tokens_masks = []\n",
    "\n",
    "train_description_tokens_masks = []\n",
    "test_description_tokens_masks = []\n",
    "\n",
    "for i in np.arange(0, len(train_titles_tokens)):\n",
    "    this_train_title_token_mask = get_masks(train_titles_tokens[i], max_seq_length=max_seq_length)\n",
    "    train_title_tokens_masks.append(this_train_title_token_mask)\n",
    "\n",
    "for i in np.arange(0, len(test_titles_tokens)):\n",
    "    this_test_title_token_mask = get_masks(test_titles_tokens[i], max_seq_length=max_seq_length)\n",
    "    test_title_tokens_masks.append(this_test_title_token_mask)\n",
    "\n",
    "for i in np.arange(0, len(description_train_tokens)):\n",
    "    this_train_description_token_mask = get_masks(description_train_tokens[i], max_seq_length=max_seq_length)\n",
    "    train_description_tokens_masks.append(this_train_description_token_mask)\n",
    "\n",
    "for i in np.arange(0, len(description_test_tokens)):\n",
    "    this_test_description_token_mask = get_masks(description_test_tokens[i], max_seq_length=max_seq_length)\n",
    "    test_description_tokens_masks.append(this_test_description_token_mask)"
   ]
  },
  {
   "cell_type": "code",
   "execution_count": 76,
   "metadata": {},
   "outputs": [
    {
     "name": "stdout",
     "output_type": "stream",
     "text": [
      "Training input masks for first title:\n",
      "\n",
      " [1 1 1 1 1 1 1 1 1 1 1 1 1 1 1 1 1 1 1 0 0 0 0 0 0 0 0 0 0 0 0 0 0 0 0 0 0\n",
      " 0 0 0 0 0 0 0 0 0 0 0 0 0 0 0 0 0 0 0 0 0 0 0 0 0 0 0 0 0 0 0 0 0 0 0 0 0\n",
      " 0 0 0 0 0 0 0 0 0 0 0 0 0 0 0 0 0 0 0 0 0 0 0 0 0 0 0 0 0 0 0 0 0 0 0 0 0\n",
      " 0 0 0 0 0 0 0 0 0 0 0 0 0 0 0 0 0 0 0 0 0 0 0 0 0 0 0 0 0 0 0 0 0 0 0 0 0\n",
      " 0 0 0 0 0 0 0 0 0 0 0 0 0 0 0 0 0 0 0 0 0 0 0 0 0 0 0 0 0 0 0 0 0 0 0 0 0\n",
      " 0 0 0 0 0 0 0 0 0 0 0 0 0 0 0 0 0 0 0 0 0 0 0 0 0 0 0 0 0 0 0 0 0 0 0 0 0\n",
      " 0 0 0 0 0 0 0 0 0 0 0 0 0 0 0 0 0 0 0 0 0 0 0 0 0 0 0 0 0 0 0 0 0 0 0 0 0\n",
      " 0 0 0 0 0 0 0 0 0 0 0 0 0 0 0 0 0 0 0 0 0 0 0 0 0 0 0 0 0 0 0 0 0 0 0 0 0\n",
      " 0 0 0 0 0 0 0 0 0 0 0 0 0 0 0 0 0 0 0 0 0 0 0 0 0 0 0 0 0 0 0 0 0 0 0 0 0\n",
      " 0 0 0 0 0 0 0 0 0 0 0 0 0 0 0 0 0 0 0 0 0 0 0 0 0 0 0 0 0 0 0 0 0 0 0 0 0\n",
      " 0 0 0 0 0 0 0 0 0 0 0 0 0 0 0 0 0 0 0 0 0 0 0 0 0 0 0 0 0 0 0 0 0 0 0 0 0\n",
      " 0 0 0 0 0 0 0 0 0 0 0 0 0 0 0 0 0 0 0 0 0 0 0 0 0 0 0 0 0 0 0 0 0 0 0 0 0\n",
      " 0 0 0 0 0 0 0 0 0 0 0 0 0 0 0 0 0 0 0 0 0 0 0 0 0 0 0 0 0 0 0 0 0 0 0 0 0\n",
      " 0 0 0 0 0 0 0 0 0 0 0 0 0 0 0 0 0 0 0 0 0 0 0 0 0 0 0 0 0 0 0]\n"
     ]
    }
   ],
   "source": [
    "print(\"Training input masks for first title:\\n\\n\", train_title_tokens_masks[0])"
   ]
  },
  {
   "cell_type": "code",
   "execution_count": 77,
   "metadata": {},
   "outputs": [
    {
     "name": "stdout",
     "output_type": "stream",
     "text": [
      "Training input masks for first description:\n",
      "\n",
      " [1 1 1 1 1 1 1 1 1 1 1 1 1 1 1 1 1 0 0 0 0 0 0 0 0 0 0 0 0 0 0 0 0 0 0 0 0\n",
      " 0 0 0 0 0 0 0 0 0 0 0 0 0 0 0 0 0 0 0 0 0 0 0 0 0 0 0 0 0 0 0 0 0 0 0 0 0\n",
      " 0 0 0 0 0 0 0 0 0 0 0 0 0 0 0 0 0 0 0 0 0 0 0 0 0 0 0 0 0 0 0 0 0 0 0 0 0\n",
      " 0 0 0 0 0 0 0 0 0 0 0 0 0 0 0 0 0 0 0 0 0 0 0 0 0 0 0 0 0 0 0 0 0 0 0 0 0\n",
      " 0 0 0 0 0 0 0 0 0 0 0 0 0 0 0 0 0 0 0 0 0 0 0 0 0 0 0 0 0 0 0 0 0 0 0 0 0\n",
      " 0 0 0 0 0 0 0 0 0 0 0 0 0 0 0 0 0 0 0 0 0 0 0 0 0 0 0 0 0 0 0 0 0 0 0 0 0\n",
      " 0 0 0 0 0 0 0 0 0 0 0 0 0 0 0 0 0 0 0 0 0 0 0 0 0 0 0 0 0 0 0 0 0 0 0 0 0\n",
      " 0 0 0 0 0 0 0 0 0 0 0 0 0 0 0 0 0 0 0 0 0 0 0 0 0 0 0 0 0 0 0 0 0 0 0 0 0\n",
      " 0 0 0 0 0 0 0 0 0 0 0 0 0 0 0 0 0 0 0 0 0 0 0 0 0 0 0 0 0 0 0 0 0 0 0 0 0\n",
      " 0 0 0 0 0 0 0 0 0 0 0 0 0 0 0 0 0 0 0 0 0 0 0 0 0 0 0 0 0 0 0 0 0 0 0 0 0\n",
      " 0 0 0 0 0 0 0 0 0 0 0 0 0 0 0 0 0 0 0 0 0 0 0 0 0 0 0 0 0 0 0 0 0 0 0 0 0\n",
      " 0 0 0 0 0 0 0 0 0 0 0 0 0 0 0 0 0 0 0 0 0 0 0 0 0 0 0 0 0 0 0 0 0 0 0 0 0\n",
      " 0 0 0 0 0 0 0 0 0 0 0 0 0 0 0 0 0 0 0 0 0 0 0 0 0 0 0 0 0 0 0 0 0 0 0 0 0\n",
      " 0 0 0 0 0 0 0 0 0 0 0 0 0 0 0 0 0 0 0 0 0 0 0 0 0 0 0 0 0 0 0]\n"
     ]
    }
   ],
   "source": [
    "print(\"Training input masks for first description:\\n\\n\", train_description_tokens_masks[0])"
   ]
  },
  {
   "cell_type": "markdown",
   "metadata": {},
   "source": [
    "# 5) Create text segments for BERT"
   ]
  },
  {
   "cell_type": "code",
   "execution_count": 78,
   "metadata": {},
   "outputs": [],
   "source": [
    "max_seq_length = 512\n",
    "\n",
    "train_title_tokens_segs = []\n",
    "test_title_tokens_segs = []\n",
    "\n",
    "train_description_tokens_segs = []\n",
    "test_description_tokens_segs = []\n",
    "\n",
    "input_seg = []\n",
    "for i in np.arange(0, len(train_titles_tokens)):\n",
    "    this_train_title_token_seg = get_segments(train_titles_tokens[i], max_seq_length=max_seq_length)\n",
    "    train_title_tokens_segs.append(this_train_title_token_seg)\n",
    "\n",
    "for i in np.arange(0, len(test_titles_tokens)):\n",
    "    this_test_title_token_seg = get_segments(test_titles_tokens[i], max_seq_length=max_seq_length)\n",
    "    test_title_tokens_segs.append(this_test_title_token_seg)\n",
    "\n",
    "for i in np.arange(0, len(description_train_tokens)):\n",
    "    this_train_description_token_seg = get_segments(description_train_tokens[i], max_seq_length=max_seq_length)\n",
    "    train_description_tokens_segs.append(this_train_description_token_seg)\n",
    "\n",
    "for i in np.arange(0, len(description_test_tokens)):\n",
    "    this_test_description_token_seg = get_segments(description_test_tokens[i], max_seq_length=max_seq_length)\n",
    "    test_description_tokens_segs.append(this_test_description_token_seg)"
   ]
  },
  {
   "cell_type": "code",
   "execution_count": 80,
   "metadata": {},
   "outputs": [
    {
     "name": "stdout",
     "output_type": "stream",
     "text": [
      "Training input segments for first title:\n",
      "\n",
      " [0 0 0 0 0 0 0 0 0 0 0 0 0 0 0 0 0 0 0 0 0 0 0 0 0 0 0 0 0 0 0 0 0 0 0 0 0\n",
      " 0 0 0 0 0 0 0 0 0 0 0 0 0 0 0 0 0 0 0 0 0 0 0 0 0 0 0 0 0 0 0 0 0 0 0 0 0\n",
      " 0 0 0 0 0 0 0 0 0 0 0 0 0 0 0 0 0 0 0 0 0 0 0 0 0 0 0 0 0 0 0 0 0 0 0 0 0\n",
      " 0 0 0 0 0 0 0 0 0 0 0 0 0 0 0 0 0 0 0 0 0 0 0 0 0 0 0 0 0 0 0 0 0 0 0 0 0\n",
      " 0 0 0 0 0 0 0 0 0 0 0 0 0 0 0 0 0 0 0 0 0 0 0 0 0 0 0 0 0 0 0 0 0 0 0 0 0\n",
      " 0 0 0 0 0 0 0 0 0 0 0 0 0 0 0 0 0 0 0 0 0 0 0 0 0 0 0 0 0 0 0 0 0 0 0 0 0\n",
      " 0 0 0 0 0 0 0 0 0 0 0 0 0 0 0 0 0 0 0 0 0 0 0 0 0 0 0 0 0 0 0 0 0 0 0 0 0\n",
      " 0 0 0 0 0 0 0 0 0 0 0 0 0 0 0 0 0 0 0 0 0 0 0 0 0 0 0 0 0 0 0 0 0 0 0 0 0\n",
      " 0 0 0 0 0 0 0 0 0 0 0 0 0 0 0 0 0 0 0 0 0 0 0 0 0 0 0 0 0 0 0 0 0 0 0 0 0\n",
      " 0 0 0 0 0 0 0 0 0 0 0 0 0 0 0 0 0 0 0 0 0 0 0 0 0 0 0 0 0 0 0 0 0 0 0 0 0\n",
      " 0 0 0 0 0 0 0 0 0 0 0 0 0 0 0 0 0 0 0 0 0 0 0 0 0 0 0 0 0 0 0 0 0 0 0 0 0\n",
      " 0 0 0 0 0 0 0 0 0 0 0 0 0 0 0 0 0 0 0 0 0 0 0 0 0 0 0 0 0 0 0 0 0 0 0 0 0\n",
      " 0 0 0 0 0 0 0 0 0 0 0 0 0 0 0 0 0 0 0 0 0 0 0 0 0 0 0 0 0 0 0 0 0 0 0 0 0\n",
      " 0 0 0 0 0 0 0 0 0 0 0 0 0 0 0 0 0 0 0 0 0 0 0 0 0 0 0 0 0 0 0]\n"
     ]
    }
   ],
   "source": [
    "print(\"Training input segments for first title:\\n\\n\", train_title_tokens_segs[0])"
   ]
  },
  {
   "cell_type": "code",
   "execution_count": 81,
   "metadata": {},
   "outputs": [
    {
     "name": "stdout",
     "output_type": "stream",
     "text": [
      "Training input segments for first description:\n",
      "\n",
      " [0 0 0 0 0 0 0 0 0 0 0 0 0 0 0 0 0 0 0 0 0 0 0 0 0 0 0 0 0 0 0 0 0 0 0 0 0\n",
      " 0 0 0 0 0 0 0 0 0 0 0 0 0 0 0 0 0 0 0 0 0 0 0 0 0 0 0 0 0 0 0 0 0 0 0 0 0\n",
      " 0 0 0 0 0 0 0 0 0 0 0 0 0 0 0 0 0 0 0 0 0 0 0 0 0 0 0 0 0 0 0 0 0 0 0 0 0\n",
      " 0 0 0 0 0 0 0 0 0 0 0 0 0 0 0 0 0 0 0 0 0 0 0 0 0 0 0 0 0 0 0 0 0 0 0 0 0\n",
      " 0 0 0 0 0 0 0 0 0 0 0 0 0 0 0 0 0 0 0 0 0 0 0 0 0 0 0 0 0 0 0 0 0 0 0 0 0\n",
      " 0 0 0 0 0 0 0 0 0 0 0 0 0 0 0 0 0 0 0 0 0 0 0 0 0 0 0 0 0 0 0 0 0 0 0 0 0\n",
      " 0 0 0 0 0 0 0 0 0 0 0 0 0 0 0 0 0 0 0 0 0 0 0 0 0 0 0 0 0 0 0 0 0 0 0 0 0\n",
      " 0 0 0 0 0 0 0 0 0 0 0 0 0 0 0 0 0 0 0 0 0 0 0 0 0 0 0 0 0 0 0 0 0 0 0 0 0\n",
      " 0 0 0 0 0 0 0 0 0 0 0 0 0 0 0 0 0 0 0 0 0 0 0 0 0 0 0 0 0 0 0 0 0 0 0 0 0\n",
      " 0 0 0 0 0 0 0 0 0 0 0 0 0 0 0 0 0 0 0 0 0 0 0 0 0 0 0 0 0 0 0 0 0 0 0 0 0\n",
      " 0 0 0 0 0 0 0 0 0 0 0 0 0 0 0 0 0 0 0 0 0 0 0 0 0 0 0 0 0 0 0 0 0 0 0 0 0\n",
      " 0 0 0 0 0 0 0 0 0 0 0 0 0 0 0 0 0 0 0 0 0 0 0 0 0 0 0 0 0 0 0 0 0 0 0 0 0\n",
      " 0 0 0 0 0 0 0 0 0 0 0 0 0 0 0 0 0 0 0 0 0 0 0 0 0 0 0 0 0 0 0 0 0 0 0 0 0\n",
      " 0 0 0 0 0 0 0 0 0 0 0 0 0 0 0 0 0 0 0 0 0 0 0 0 0 0 0 0 0 0 0]\n"
     ]
    }
   ],
   "source": [
    "print(\"Training input segments for first description:\\n\\n\", train_description_tokens_segs[0])"
   ]
  },
  {
   "cell_type": "markdown",
   "metadata": {},
   "source": [
    "# End of BERT Data Pre-Processing"
   ]
  },
  {
   "cell_type": "markdown",
   "metadata": {},
   "source": [
    "Now I need a dictionary for metadata IDs to BERT inputs like {id: [description word tokens, description masks, description segment IDs, title word tokens, title masks, title segments IDs]}"
   ]
  },
  {
   "cell_type": "code",
   "execution_count": 127,
   "metadata": {},
   "outputs": [],
   "source": [
    "child_dict1 = dict(zip(ids, train_description_tokens_ids))\n",
    "child_dict2 = dict(zip(ids, train_description_tokens_masks))\n",
    "child_dict3 = dict(zip(ids, train_description_tokens_segs))\n",
    "child_dict4 = dict(zip(ids, train_title_tokens_ids))\n",
    "child_dict5 = dict(zip(ids, train_title_tokens_masks))\n",
    "child_dict6 = dict(zip(ids, train_title_tokens_segs))"
   ]
  },
  {
   "cell_type": "code",
   "execution_count": 128,
   "metadata": {},
   "outputs": [],
   "source": [
    "dict_subset = [child_dict1, child_dict2, child_dict3, child_dict4, child_dict5, child_dict6]\n",
    "parent_dict = {}\n",
    "for i in child_dict1.keys():\n",
    "  parent_dict[i] = tuple(parent_dict[i] for parent_dict in dict_subset)"
   ]
  },
  {
   "cell_type": "markdown",
   "metadata": {},
   "source": [
    "## Shape [2252,512,768] for train title data should be [2252,512,1536] for train description data"
   ]
  },
  {
   "cell_type": "code",
   "execution_count": null,
   "metadata": {},
   "outputs": [],
   "source": [
    "parent_dict"
   ]
  },
  {
   "cell_type": "markdown",
   "metadata": {},
   "source": [
    "### BELOW IS A WIP:"
   ]
  },
  {
   "cell_type": "code",
   "execution_count": 89,
   "metadata": {},
   "outputs": [
    {
     "data": {
      "text/plain": [
       "2252"
      ]
     },
     "execution_count": 89,
     "metadata": {},
     "output_type": "execute_result"
    }
   ],
   "source": [
    "len(train_title_tokens_segs)"
   ]
  },
  {
   "cell_type": "code",
   "execution_count": null,
   "metadata": {},
   "outputs": [],
   "source": [
    "max_seq_length = 500  # Your choice here.\n",
    "input_word_ids = tf.keras.layers.Input(shape=(max_seq_length), dtype=tf.int32,\n",
    "                                       name=\"input_word_ids\")\n",
    "input_mask = tf.keras.layers.Input(shape=(max_seq_length), dtype=tf.int32,\n",
    "                                   name=\"input_mask\")\n",
    "segment_ids = tf.keras.layers.Input(shape=(max_seq_length), dtype=tf.int32,\n",
    "                                    name=\"segment_ids\")\n",
    "pooled_output_titles, sequence_output_titles = bert_layer([train_title_tokens_ids, train_title_tokens_masks, train_title_tokens_segs])\n",
    "#pooled_output_descriptions, sequence_output_descriptions = bert_layer([train_description_tokens_ids, train_description_tokens_masks, train_description_tokens_segs])"
   ]
  },
  {
   "cell_type": "code",
   "execution_count": null,
   "metadata": {},
   "outputs": [],
   "source": []
  },
  {
   "cell_type": "code",
   "execution_count": null,
   "metadata": {},
   "outputs": [],
   "source": []
  },
  {
   "cell_type": "code",
   "execution_count": null,
   "metadata": {},
   "outputs": [],
   "source": []
  },
  {
   "cell_type": "code",
   "execution_count": null,
   "metadata": {},
   "outputs": [],
   "source": []
  },
  {
   "cell_type": "code",
   "execution_count": null,
   "metadata": {},
   "outputs": [],
   "source": []
  },
  {
   "cell_type": "code",
   "execution_count": null,
   "metadata": {},
   "outputs": [],
   "source": []
  },
  {
   "cell_type": "code",
   "execution_count": null,
   "metadata": {},
   "outputs": [],
   "source": []
  },
  {
   "cell_type": "code",
   "execution_count": null,
   "metadata": {},
   "outputs": [],
   "source": [
    "    # description part\n",
    "    input_word_ids_desc = tf.keras.layers.Input(shape=(bert_sequence_len[0]), dtype=tf.int32,\n",
    "\t\t                               name=\"input_word_ids_desc\")\n",
    "    input_mask_desc = tf.keras.layers.Input(shape=(bert_sequence_len[0]), dtype=tf.int32,\n",
    "\t\t                           name=\"input_mask_desc\")\n",
    "    segment_ids_desc = tf.keras.layers.Input(shape=(bert_sequence_len[0]), dtype=tf.int32,\n",
    "\t\t                            name=\"segment_ids_desc\")\n",
    "    pooled_output_desc, sequence_output_desc = bert_layer([description_train_tokens, \n",
    "                                                     train_description_tokens_masks, \n",
    "                                                     train_description_tokens_segs])"
   ]
  },
  {
   "cell_type": "code",
   "execution_count": null,
   "metadata": {},
   "outputs": [],
   "source": [
    "pooled_output_desc, sequence_output_desc = bert_layer([description_train_tokens, \n",
    "                                                     train_description_tokens_masks, \n",
    "                                                     train_description_tokens_segs])"
   ]
  },
  {
   "cell_type": "code",
   "execution_count": null,
   "metadata": {},
   "outputs": [],
   "source": [
    "embed_drop1 = Dropout(0.2)(pooled_output_desc)\n",
    "embed_dnn1 = Dense(1024, activation='relu')(embed_drop1)"
   ]
  },
  {
   "cell_type": "code",
   "execution_count": null,
   "metadata": {},
   "outputs": [],
   "source": []
  },
  {
   "cell_type": "code",
   "execution_count": null,
   "metadata": {},
   "outputs": [],
   "source": []
  },
  {
   "cell_type": "code",
   "execution_count": 303,
   "metadata": {},
   "outputs": [],
   "source": [
    "max_seq_length = 500  # Your choice here.\n",
    "input_word_ids = tf.keras.layers.Input(shape=(max_seq_length), dtype=tf.int32,\n",
    "                                       name=\"input_word_ids\")\n",
    "input_mask = tf.keras.layers.Input(shape=(max_seq_length), dtype=tf.int32,\n",
    "                                   name=\"input_mask\")\n",
    "segment_ids = tf.keras.layers.Input(shape=(max_seq_length), dtype=tf.int32,\n",
    "                                    name=\"segment_ids\")\n",
    "pooled_output, sequence_output = bert_layer([input_word_ids, input_mask, segment_ids])\n",
    "classifier1 = tf.keras.layers.Dense(100,activation='sigmoid')(pooled_output)\n",
    "classifier2 = tf.keras.layers.Dense(1,activation='sigmoid')(classifier1)"
   ]
  },
  {
   "cell_type": "code",
   "execution_count": 304,
   "metadata": {},
   "outputs": [],
   "source": [
    "model = Model(inputs=[input_word_ids, input_mask, segment_ids], outputs=[classifier2])"
   ]
  },
  {
   "cell_type": "code",
   "execution_count": 305,
   "metadata": {},
   "outputs": [
    {
     "name": "stdout",
     "output_type": "stream",
     "text": [
      "Model: \"model\"\n",
      "__________________________________________________________________________________________________\n",
      "Layer (type)                    Output Shape         Param #     Connected to                     \n",
      "==================================================================================================\n",
      "input_word_ids (InputLayer)     [(None, 500)]        0                                            \n",
      "__________________________________________________________________________________________________\n",
      "input_mask (InputLayer)         [(None, 500)]        0                                            \n",
      "__________________________________________________________________________________________________\n",
      "segment_ids (InputLayer)        [(None, 500)]        0                                            \n",
      "__________________________________________________________________________________________________\n",
      "keras_layer_1 (KerasLayer)      multiple             109482241   input_word_ids[0][0]             \n",
      "                                                                 input_mask[0][0]                 \n",
      "                                                                 segment_ids[0][0]                \n",
      "__________________________________________________________________________________________________\n",
      "dense (Dense)                   (None, 100)          76900       keras_layer_1[1][0]              \n",
      "__________________________________________________________________________________________________\n",
      "dense_1 (Dense)                 (None, 1)            101         dense[0][0]                      \n",
      "==================================================================================================\n",
      "Total params: 109,559,242\n",
      "Trainable params: 109,559,241\n",
      "Non-trainable params: 1\n",
      "__________________________________________________________________________________________________\n"
     ]
    },
    {
     "data": {
      "image/png": "[encoded data removed]",
      "text/plain": [
       "<IPython.core.display.Image object>"
      ]
     },
     "execution_count": 305,
     "metadata": {},
     "output_type": "execute_result"
    }
   ],
   "source": [
    "import graphviz\n",
    "import pydot\n",
    "\n",
    "model.summary() # second pass with 500 sequence length\n",
    "tf.keras.utils.plot_model(model, show_shapes=True, dpi=48)"
   ]
  },
  {
   "cell_type": "markdown",
   "metadata": {},
   "source": [
    "# The above will need to be done in a tensorflow 2.1.0 environment. After everything is done and it is time to run the BERT, there will need to be another Python script that runs the model in M2"
   ]
  }
 ],
 "metadata": {
  "kernelspec": {
   "display_name": "Python 3",
   "language": "python",
   "name": "python3"
  },
  "language_info": {
   "codemirror_mode": {
    "name": "ipython",
    "version": 3
   },
   "file_extension": ".py",
   "mimetype": "text/x-python",
   "name": "python",
   "nbconvert_exporter": "python",
   "pygments_lexer": "ipython3",
   "version": "3.7.6"
  }
 },
 "nbformat": 4,
 "nbformat_minor": 4
}
